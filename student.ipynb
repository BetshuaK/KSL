{
 "cells": [
  {
   "cell_type": "markdown",
   "metadata": {},
   "source": [
    "# Real-Time Sign Language Hand Detection"
   ]
  },
  {
   "cell_type": "markdown",
   "metadata": {},
   "source": [
    "## 1. Business Understanding"
   ]
  },
  {
   "cell_type": "markdown",
   "metadata": {},
   "source": [
    "### (a) Introduction"
   ]
  },
  {
   "cell_type": "markdown",
   "metadata": {},
   "source": [
    "In a world where effective communication is the cornerstone of social interaction,there exist significant challenges for individuals with disabilities,particularly those who rely on sign language as their primary means of communication. Communication is not just a basic human right but also a fundamental requirement for participation in society,accessing essential services,and enjoying a high quality of life.\n",
    "\n",
    "Finger Spelling is a crucial form of communication for individuals with hearing impairments.It involves using handshapes to spell out words and convey messages,making it an essential component of sign language and augmenting other communication methods.For many Deaf and Hard of Hearing individuals,fingerspelling is not just a mode of communication;it is a vital tool for expressing thoughts,emotions and ideas effectively.Despite its significance, there exist a stark communication gap between individuals who rely on fingerspelling and the boarder society.This gap often leads to social isolation,limited access to education and employment opportunities, and barriers to accessing essential services. Bridging this divide is not just a matter of convinience, its a matter of fundamental human rights and social justice.\n",
    "\n",
    "Recognizing this, the Ministry of Public Services,Gender,Senior Citizens Affairs, and the special Program and Rehabilitative Services Division has embarked on a transformative initiative to break down the barriers faced by individuals with this kind of disability.This division focuses on providing support and services to individuals with special needs. It often encompasses services for people with disabilities, including rehabilitation,vocational training and programs aimed at improving their quality of life.\n",
    "\n",
    "Our project will harness the power of advanced computer vision techniques to detect and interpret the intricate handshapes and movements that constitute fingerspelling.By doing so in real time, we aim to create a system that can facilitate immediate, meaningful communication between individuals with disabilities and their conterparts.Our vision is to develop an innovative solution that leverages modern technology to empower Deaf and Hard of Hearing individuals by enabling real-time fingerspelling interpretation. This project will improve the ministry's ability to provide services to individuals with disabilities,especially those who rely on fingerspelling.This will enable more effective communication between the government officials and citizens with disabilities,enhancing the quality and accessibility of services.\n"
   ]
  },
  {
   "cell_type": "markdown",
   "metadata": {},
   "source": [
    "### (b) The Problem Statement"
   ]
  },
  {
   "cell_type": "markdown",
   "metadata": {},
   "source": [
    "Effective communication is a fundamental human right and an essential component of social inclusion and participation. However individuals with hearing impairments who rely on fingerspelling as their primary means of communication face often significant communication barriers.The problem at hand is limited accessibility and inclusivity faced by individuals with hearing impairments who rely on fingerspelling.Current communication solutions do not adequately facilitate effective communication between individuals proficient in this visual-gesture language. The Ministry of Public Services,Gender, Senior Citizens Affairs and Special Program and Rehabilitative Services Division have commissioned this project to develop and implement a real-time fingerspelling detection system that can bridge the communication gap between individuals with hearing impairments to communicate effectively with the government officials,access government services, education, and employment opportunities and promote their overall social inclusion and well-being."
   ]
  },
  {
   "cell_type": "markdown",
   "metadata": {},
   "source": [
    "### (c) Defining a Metric of Success"
   ]
  },
  {
   "cell_type": "markdown",
   "metadata": {},
   "source": [
    "- **Recognition Accuracy**\n",
    "\n",
    "Achieve a recognition accuracy rate of at least 90%, measured by the percentage of correctly identified fingerspelled words out of the total fingerspelled words processed by the system.\n",
    "\n",
    "- **Response Time**\n",
    "\n",
    "Ensure a response time of less than 20 seconds for recognizing and translating fingerspelling gestures into text or speech in real-time.\n",
    "\n",
    "- **Error Rate**\n",
    "\n",
    "Maintain a low error rate, with recognition errors accounting for less than 5% of total interactions with the system.\n",
    "\n",
    "- **Intergration success**\n",
    "\n",
    "Intergrate the system successully into a website,ensuring seamless functionality."
   ]
  },
  {
   "cell_type": "markdown",
   "metadata": {},
   "source": [
    "### (d) The Main Objective"
   ]
  },
  {
   "cell_type": "markdown",
   "metadata": {},
   "source": [
    "To develop and implement a real-time fingerspelling detection system that empowers individuals with hearing impairments to communicate effectively with the broader community,government officials and service providers,thereby promoting inclusivity,accessibility and social intergration."
   ]
  },
  {
   "cell_type": "markdown",
   "metadata": {},
   "source": [
    "### (e) Specific Objectives"
   ]
  },
  {
   "cell_type": "markdown",
   "metadata": {},
   "source": [
    "- **Data Collection**\n",
    "\n",
    "Collect a diverse and comprehensive dataset of fingerspelling gestures performed by individuals with varying signing styles,hand shapes and speeds\n",
    "\n",
    "- **Develop a robust hand detection system**\n",
    "\n",
    "Create an accurate and robust hand detection system using cvzone and MediaPipe to ensure precise tracking of hand movements during fingerspelling.\n",
    "\n",
    "- **Implement fingerspelling recognition**\n",
    "\n",
    "Develop a recogntion component that can identify and interpret fingerspelled words and gestures in real-time using machine learning algorithms.\n",
    "\n",
    "- **Real-time translation**\n",
    "\n",
    "Intergrate a translation mechanism that converts detected fingerspelled letters into text in real-time,ensuring immediate and accessible communication.\n",
    "\n",
    "- **User-Friendly Interface**\n",
    "\n",
    "Design an intuitive user interface that is accessible and user-friendly, allowing individuals with disabilities to interact with the system comfortably\n",
    "\n",
    "- **Intergration into a website**\n",
    "\n",
    "Develop a website to intergrate the system to maximize its reach and impact."
   ]
  },
  {
   "cell_type": "markdown",
   "metadata": {},
   "source": [
    "### (f) Data Understanding"
   ]
  },
  {
   "cell_type": "markdown",
   "metadata": {},
   "source": [
    "The data being collected for this project, which comprises a diverse set of fingerspelling gestures performed by two females and two males, holds paramount relevance to the overall success and effectiveness of our fingerspelling recognition system. This dataset encapsulates the rich variability inherent in real-world signing practices, encompassing distinct signing styles, handshapes, and gender-specific variations. By including equal representation from both genders, we acknowledge potential differences in signing articulation, which ensures that our system can proficiently recognize and accommodate diverse signing patterns. Additionally, capturing variations in lighting conditions and backgrounds reflects the environmental diversity that users may encounter, further enhancing the system's robustness and adaptability. In essence, this meticulously collected and annotated dataset serves as the bedrock upon which our project's success is built, facilitating the development of a highly accurate, inclusive, and adaptable real-time fingerspelling recognition system that effectively bridges communication barriers for individuals with hearing impairments.\n"
   ]
  },
  {
   "cell_type": "markdown",
   "metadata": {},
   "source": [
    "## 2. Importing Libraries"
   ]
  },
  {
   "cell_type": "code",
   "execution_count": 2,
   "metadata": {},
   "outputs": [],
   "source": [
    "import cv2\n",
    "from cvzone.HandTrackingModule import HandDetector\n",
    "import numpy as np\n",
    "import math\n",
    "import time\n",
    "import os\n",
    "import tensorflow as tf\n",
    "from tensorflow import keras\n",
    "from sklearn.model_selection import train_test_split"
   ]
  },
  {
   "cell_type": "markdown",
   "metadata": {},
   "source": [
    "## 3. Collecting the Data"
   ]
  },
  {
   "cell_type": "markdown",
   "metadata": {},
   "source": [
    "#### (i) Images"
   ]
  },
  {
   "cell_type": "code",
   "execution_count": null,
   "metadata": {},
   "outputs": [],
   "source": [
    "cap = cv2.VideoCapture(0)\n",
    "detector = HandDetector(maxHands=1)\n",
    "\n",
    "offset = 20\n",
    "imgSize = 300\n",
    "\n",
    "folder = 'Data/A'\n",
    "counter = 0\n",
    "\n",
    "while True:\n",
    "    success, img = cap.read()\n",
    "    hands, img = detector.findHands(img)\n",
    "    if hands:\n",
    "        hand = hands[0]\n",
    "        x, y, w, h = hand['bbox']\n",
    "\n",
    "        imgwhite = np.ones((imgSize, imgSize, 3), np.uint8)*255\n",
    "\n",
    "        imgCrop =img[y-offset:y + h+offset, x-offset:x + w+offset]\n",
    "\n",
    "        imgCropShape = imgCrop.shape\n",
    "\n",
    "        \n",
    "\n",
    "        aspectRatio = h/w\n",
    "        if aspectRatio > 1:\n",
    "            k = imgSize/h\n",
    "            wCal = math.ceil(k*w)\n",
    "            imgResize = cv2.resize(imgCrop, (wCal, imgSize))\n",
    "            imgResizeShape = imgResize.shape\n",
    "            wGap = math.ceil(imgSize-wCal)/2\n",
    "            imgwhite[:, int(wGap) : int(wCal) + int(wGap)] = imgResize\n",
    "\n",
    "        else:\n",
    "            k = imgSize/w\n",
    "            hCal = math.ceil(k*h)\n",
    "            imgResize = cv2.resize(imgCrop, (imgSize, hCal))\n",
    "\n",
    "            imgResizeShape = imgResize.shape\n",
    "            hGap = math.ceil((imgSize-hCal)/2)\n",
    "            imgwhite[int(hGap) : int(hCal) + int(hGap), :] = imgResize\n",
    "\n",
    "\n",
    "        cv2.imshow('ImageCrop', imgCrop)\n",
    "        cv2.imshow('ImageWhite', imgwhite)\n",
    "\n",
    "    cv2.imshow('Image', img)\n",
    "    key = cv2.waitKey(10)\n",
    "    if key == ord('s'):\n",
    "        counter += 1\n",
    "        cv2.imwrite(f'{folder}/Image_{time.time()}.jpg', imgwhite)\n",
    "        print(counter)\n"
   ]
  },
  {
   "cell_type": "markdown",
   "metadata": {},
   "source": [
    "#### (ii) Videos"
   ]
  },
  {
   "cell_type": "code",
   "execution_count": null,
   "metadata": {},
   "outputs": [],
   "source": [
    "# Creating a folder to save the captured videos if it doesn't exist\n",
    "output_folder = 'Data/Z/'\n",
    "os.makedirs(output_folder, exist_ok=True)\n",
    "\n",
    "# Opening a connection to the webcam (0 for default webcam)\n",
    "cap = cv2.VideoCapture(0)\n",
    "\n",
    "# Defining the codec and create a VideoWriter object\n",
    "fourcc = cv2.VideoWriter_fourcc(*'XVID')  # You can change the codec as needed\n",
    "frame_width = int(cap.get(3))\n",
    "frame_height = int(cap.get(4))\n",
    "\n",
    "# Countering to keep track of video file names\n",
    "video_counter = 10\n",
    "\n",
    "while True:\n",
    "    # Generating a new filename for each video\n",
    "    video_filename = os.path.join(output_folder, f'output_{video_counter}.avi')\n",
    "    out = cv2.VideoWriter(video_filename, fourcc, 20.0, (frame_width, frame_height))  # Adjust resolution as needed\n",
    "\n",
    "    # Incrementing the video counter\n",
    "    video_counter += 1\n",
    "\n",
    "    while True:\n",
    "        ret, frame = cap.read()\n",
    "        if not ret:\n",
    "            break\n",
    "        # Writing the frame to the output video file\n",
    "        out.write(frame)\n",
    "\n",
    "        # Displaying the frame\n",
    "        cv2.imshow('Video', frame)\n",
    "\n",
    "        key = cv2.waitKey(1)\n",
    "        if key == ord('q'):  # Press 'q' to stop recording and start a new video\n",
    "            break\n",
    "\n",
    "    # Releasing the VideoWriter object for the current video\n",
    "    out.release()\n",
    "\n",
    "    key = cv2.waitKey(1)\n",
    "    if key == ord('q'):  # Press 'q' to stop recording and start a new video\n",
    "        break\n",
    "\n",
    "# Releasing the VideoCapture object\n",
    "cap.release()\n",
    "\n",
    "# Closing all windows\n",
    "cv2.destroyAllWindows()\n"
   ]
  }
 ],
 "metadata": {
  "kernelspec": {
   "display_name": "Python (learn-env)",
   "language": "python",
   "name": "learn-env"
  },
  "language_info": {
   "codemirror_mode": {
    "name": "ipython",
    "version": 3
   },
   "file_extension": ".py",
   "mimetype": "text/x-python",
   "name": "python",
   "nbconvert_exporter": "python",
   "pygments_lexer": "ipython3",
   "version": "3.10.11"
  }
 },
 "nbformat": 4,
 "nbformat_minor": 2
}
